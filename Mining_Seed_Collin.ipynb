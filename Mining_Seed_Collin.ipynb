{
  "nbformat": 4,
  "nbformat_minor": 0,
  "metadata": {
    "colab": {
      "provenance": [],
      "authorship_tag": "ABX9TyPuRSCRJcRSbeD9EKQy0FTg",
      "include_colab_link": true
    },
    "kernelspec": {
      "name": "python3",
      "display_name": "Python 3"
    },
    "language_info": {
      "name": "python"
    }
  },
  "cells": [
    {
      "cell_type": "markdown",
      "metadata": {
        "id": "view-in-github",
        "colab_type": "text"
      },
      "source": [
        "<a href=\"https://colab.research.google.com/github/shivaprasad909/notebook_elephant/blob/main/Mining_Seed_Collin.ipynb\" target=\"_parent\"><img src=\"https://colab.research.google.com/assets/colab-badge.svg\" alt=\"Open In Colab\"/></a>"
      ]
    },
    {
      "cell_type": "code",
      "source": [
        "\n",
        "# @title Step 1: Upload files\n",
        "#Upload .env & oracle-keystore.json"
      ],
      "metadata": {
        "id": "FB7L_qRQj-eA"
      },
      "execution_count": 6,
      "outputs": []
    },
    {
      "cell_type": "code",
      "source": [
        "# @title Step 2: Prepare\n",
        "# @title  {\"vertical-output\":true}\n",
        "\n",
        "import csv\n",
        "import json\n",
        "import os\n",
        "from urllib.parse import urlparse, parse_qs\n",
        "\n",
        "parcel_id = \"2595533\" # @param {\"type\":\"string\"}\n",
        "address = \"1033 ACACIA DR, ANNA, TX, 75409-5001\" # @param {\"type\":\"string\"}\n",
        "request_method = \"GET\" # @param {\"type\":\"string\"}\n",
        "url = \"https://esearch.collincad.org/Property/View/2595533?year=2025\" # @param {\"type\":\"string\"}\n",
        "County = \"Collin\" # @param {\"type\":\"string\"}\n",
        "headers = \"\" # @param {\"type\":\"string\"}\n",
        "json_body = \"\" # @param {\"type\":\"string\"}\n",
        "\n",
        "fieldnames = [\n",
        "    \"parcel_id\",\n",
        "    \"address\",\n",
        "    \"method\",\n",
        "    \"url\",\n",
        "    \"multiValueQueryString\",\n",
        "    \"county\",\n",
        "    \"json\",\n",
        "    \"headers\",\n",
        "    \"source_identifier\",\n",
        "]\n",
        "\n",
        "\n",
        "def extract_base_url_and_params(url):\n",
        "    parsed = urlparse(url)\n",
        "    base_url = f\"{parsed.scheme}://{parsed.netloc}{parsed.path}\"\n",
        "\n",
        "    # Always store params as lists\n",
        "    params = {}\n",
        "    if parsed.query:\n",
        "        for k, v in parse_qs(parsed.query, keep_blank_values=True).items():\n",
        "            params[k] = v  # always a list\n",
        "\n",
        "    # Include fragment in base_url; also parse ?query that might be inside the fragment\n",
        "    if parsed.fragment:\n",
        "        frag_path, _, frag_query = parsed.fragment.partition('?')\n",
        "        # Keep the path-like part of the fragment in the base URL\n",
        "        base_url = f\"{base_url}#{frag_path}\" if frag_path else f\"{base_url}#\"\n",
        "\n",
        "        if frag_query:\n",
        "            for k, v in parse_qs(frag_query, keep_blank_values=True).items():\n",
        "                if k in params:\n",
        "                    # Merge with existing values\n",
        "                    params[k].extend(v)\n",
        "                else:\n",
        "                    params[k] = v  # always a list\n",
        "\n",
        "    return base_url, params\n",
        "\n",
        "\n",
        "def process_input_data():\n",
        "  base_url, params = extract_base_url_and_params(url)\n",
        "\n",
        "  row = {\n",
        "      \"parcel_id\": parcel_id,\n",
        "      \"address\": address,\n",
        "      \"method\": request_method,\n",
        "      \"url\": base_url,\n",
        "      # Important: multiValueQueryString must be JSON string with array values\n",
        "      \"multiValueQueryString\": json.dumps(params, ensure_ascii=False) if params else \"\",\n",
        "      \"county\": County,\n",
        "      \"json\": json_body,\n",
        "      \"headers\": headers,\n",
        "      \"source_identifier\": parcel_id,\n",
        "  }\n",
        "\n",
        "\n",
        "\n",
        "  with open(\"seed.csv\", \"w\", newline=\"\", encoding=\"utf-8\") as f:\n",
        "      writer = csv.DictWriter(f, fieldnames=fieldnames)\n",
        "      writer.writeheader()\n",
        "      writer.writerow(row)\n",
        "\n",
        "\n",
        "process_input_data()\n",
        "print(f\"✅ Prepare done for parcel ID {parcel_id}\")\n"
      ],
      "metadata": {
        "colab": {
          "base_uri": "https://localhost:8080/"
        },
        "id": "LqYfQKloxFFy",
        "outputId": "e13c266e-6bb4-4c63-98b0-9dc3b56a8ada"
      },
      "execution_count": 1,
      "outputs": [
        {
          "output_type": "stream",
          "name": "stdout",
          "text": [
            "✅ Prepare done for parcel ID 2595533\n"
          ]
        }
      ]
    },
    {
      "cell_type": "code",
      "source": [
        "\n",
        "# @title Step 2: Transform\n",
        "from dotenv import load_dotenv\n",
        "load_dotenv()\n",
        "\n",
        "import subprocess\n",
        "import sys\n",
        "import csv\n",
        "import os\n",
        "\n",
        "\n",
        "def has_submit_errors(path=\"submit_errors.csv\"):\n",
        "    if not os.path.exists(path):\n",
        "      return False\n",
        "    with open(path, newline='', encoding='utf-8') as csvfile:\n",
        "        reader = csv.DictReader(csvfile)\n",
        "        return next(reader, None) is not None\n",
        "\n",
        "\n",
        "def run_transform():\n",
        "    try:\n",
        "        subprocess.run(\n",
        "            [\n",
        "              \"npx\", \"-y\", \"@elephant-xyz/cli@latest\", \"transform\", \"--legacy-mode\",\n",
        "              \"--group\", \"seed\",\n",
        "              \"--input-csv\", \"seed.csv\",\n",
        "              \"--output-zip\", \"transformed_seed.zip\",\n",
        "            ],\n",
        "            stdout=subprocess.DEVNULL,\n",
        "            stderr=subprocess.PIPE,\n",
        "            check=True,\n",
        "            text=True,\n",
        "        )\n",
        "        if has_submit_errors():\n",
        "            print(\"❌ Transform failed, please check submit_errors.csv for details\", file=sys.stderr)\n",
        "            return\n",
        "\n",
        "        print(\"✅ Transform done\\n\")\n",
        "\n",
        "    except subprocess.CalledProcessError as e:\n",
        "        print(f\"Command failed (exit code {e.returncode}):\", file=sys.stderr)\n",
        "        print(e.stderr.strip(), file=sys.stderr)\n",
        "        sys.exit(e.returncode)\n",
        "\n",
        "\n",
        "if __name__ == \"__main__\":\n",
        "    run_transform()\n",
        "\n"
      ],
      "metadata": {
        "colab": {
          "base_uri": "https://localhost:8080/"
        },
        "id": "q_AGkVFOzuH4",
        "outputId": "cacc9de8-3582-41b7-d650-0841b7f72b48"
      },
      "execution_count": 2,
      "outputs": [
        {
          "output_type": "stream",
          "name": "stdout",
          "text": [
            "✅ Transform done\n",
            "\n"
          ]
        }
      ]
    },
    {
      "cell_type": "code",
      "source": [
        "# @title Step 3: Validate\n",
        "!pip3 install python-dotenv -q\n",
        "\n",
        "from dotenv import load_dotenv\n",
        "load_dotenv()\n",
        "\n",
        "import subprocess\n",
        "import sys\n",
        "import csv\n",
        "\n",
        "\n",
        "def has_submit_errors(path=\"submit_errors.csv\"):\n",
        "    with open(path, newline='', encoding='utf-8') as csvfile:\n",
        "        reader = csv.DictReader(csvfile)\n",
        "        return next(reader, None) is not None\n",
        "\n",
        "\n",
        "def run_validate():\n",
        "    try:\n",
        "        result = subprocess.run(\n",
        "            [\"npx\", \"-y\", \"@elephant-xyz/cli@latest\", \"validate\", \"transformed_seed.zip\"],\n",
        "            stdout=subprocess.PIPE,\n",
        "            stderr=subprocess.PIPE,\n",
        "            text=True\n",
        "        )\n",
        "        print(\"STDOUT:\\n\", result.stdout)\n",
        "        print(\"STDERR:\\n\", result.stderr)\n",
        "\n",
        "        if result.returncode != 0:\n",
        "            print(f\"❌ Validate failed with exit code {result.returncode}\")\n",
        "        else:\n",
        "            print(\"✅ Validate done\")\n",
        "\n",
        "    except Exception as e:\n",
        "        print(\"Unexpected error:\", str(e))\n",
        "\n",
        "\n",
        "if __name__ == \"__main__\":\n",
        "    run_validate()\n"
      ],
      "metadata": {
        "colab": {
          "base_uri": "https://localhost:8080/"
        },
        "id": "X0OSFVk8dTva",
        "outputId": "fb5d774f-e682-4ce0-b6ed-f8509af28c14"
      },
      "execution_count": 3,
      "outputs": [
        {
          "output_type": "stream",
          "name": "stdout",
          "text": [
            "STDOUT:\n",
            " 🐘 Elephant Network CLI - Validate (Single Property)\n",
            "\n",
            "\n",
            "✅ Validation process finished\n",
            "\n",
            "📊 Validation Report:\n",
            "  Total files scanned:    1\n",
            "  Files skipped:          0\n",
            "  Validation errors:      0\n",
            "  Successfully validated: 1\n",
            "  Total files handled:    1\n",
            "  Duration:               1s\n",
            "\n",
            "✅ All files passed validation!\n",
            "\n",
            "STDERR:\n",
            " \n",
            "✅ Validate done\n"
          ]
        }
      ]
    },
    {
      "cell_type": "code",
      "source": [
        "!cat submit_errors.csv\n"
      ],
      "metadata": {
        "colab": {
          "base_uri": "https://localhost:8080/"
        },
        "id": "lPaiNkLCdtZS",
        "outputId": "74bed8a7-7f2a-478c-bd6e-a3cae79df51c"
      },
      "execution_count": null,
      "outputs": [
        {
          "output_type": "stream",
          "name": "stdout",
          "text": [
            "property_cid,data_group_cid,file_path,error_path,error_message,timestamp\n"
          ]
        }
      ]
    },
    {
      "cell_type": "code",
      "source": [
        "# @title Step 4: Hash\n",
        "!pip3 install python-dotenv -q\n",
        "\n",
        "from dotenv import load_dotenv\n",
        "load_dotenv()\n",
        "\n",
        "import subprocess\n",
        "import sys\n",
        "import csv\n",
        "\n",
        "\n",
        "def has_submit_errors(path=\"submit_errors.csv\"):\n",
        "    with open(path, newline='', encoding='utf-8') as csvfile:\n",
        "        reader = csv.DictReader(csvfile)\n",
        "        return next(reader, None) is not None\n",
        "\n",
        "\n",
        "def get_seed_cid(path=\"seed-results.csv\"):\n",
        "    with open(path, newline='', encoding='utf-8') as csvfile:\n",
        "        reader = csv.DictReader(csvfile)\n",
        "        first_row = next(reader, None)\n",
        "        if first_row is None:\n",
        "            raise ValueError(\"CSV file is empty\")\n",
        "        return first_row[\"propertyCid\"]\n",
        "\n",
        "\n",
        "def run_hash():\n",
        "    try:\n",
        "        subprocess.run(\n",
        "            [\n",
        "                \"npx\", \"-y\", \"@elephant-xyz/cli@latest\",\n",
        "                \"hash\", \"transformed_seed.zip\",\n",
        "                \"--output-zip\", \"hashed-data.zip\",\n",
        "                \"--output-csv\", \"seed-results.csv\",\n",
        "            ],\n",
        "            stdout=subprocess.DEVNULL,\n",
        "            stderr=subprocess.PIPE,\n",
        "            check=True,\n",
        "            text=True,\n",
        "        )\n",
        "        if has_submit_errors():\n",
        "            print(\"❌ Validate failed, please check submit_errors.csv for details\", file=sys.stderr)\n",
        "            return\n",
        "\n",
        "        seed_group_cid = get_seed_cid()\n",
        "        print(\"✅ Hash done\\n\")\n",
        "        print(f\"Seed group CID: {seed_group_cid}\\n\")\n",
        "\n",
        "    except subprocess.CalledProcessError as e:\n",
        "        print(f\"Command failed (exit code {e.returncode}):\", file=sys.stderr)\n",
        "        print(e.stderr.strip(), file=sys.stderr)\n",
        "        sys.exit(e.returncode)\n",
        "\n",
        "\n",
        "if __name__ == \"__main__\":\n",
        "    run_hash()\n",
        "\n"
      ],
      "metadata": {
        "colab": {
          "base_uri": "https://localhost:8080/"
        },
        "id": "AKLVAW44WTij",
        "outputId": "a114a778-7b14-417a-d397-cc822fd7e313"
      },
      "execution_count": 4,
      "outputs": [
        {
          "output_type": "stream",
          "name": "stdout",
          "text": [
            "✅ Hash done\n",
            "\n",
            "Seed group CID: bafkreigunu67pmpdmdjmyzu3t77r6zf3e2nat4hnuveuevoocrokb2in2q\n",
            "\n"
          ]
        }
      ]
    },
    {
      "cell_type": "code",
      "source": [
        "# Seed group CID: bafkreigwnow7touct47orqzldeg6cn2ft27kuodagieidr7hmlk25s3nkq"
      ],
      "metadata": {
        "id": "ec2rOMBuX7Ko"
      },
      "execution_count": null,
      "outputs": []
    },
    {
      "cell_type": "code",
      "source": [
        "# @title Step 5: Upload\n",
        "! pip3 install python-dotenv requests -q\n",
        "\n",
        "from dotenv import load_dotenv\n",
        "load_dotenv()\n",
        "\n",
        "import subprocess\n",
        "import sys\n",
        "import csv\n",
        "\n",
        "import requests\n",
        "\n",
        "\n",
        "def get_seed_info(path=\"seed-results.csv\"):\n",
        "    with open(path, newline='', encoding='utf-8') as csvfile:\n",
        "        reader = csv.DictReader(csvfile)\n",
        "        first_row = next(reader, None)\n",
        "        if first_row is None:\n",
        "            raise ValueError(\"CSV file is empty\")\n",
        "        return first_row\n",
        "\n",
        "\n",
        "def has_submit_errors(path=\"submit_errors.csv\"):\n",
        "    with open(path, newline='', encoding='utf-8') as csvfile:\n",
        "        reader = csv.DictReader(csvfile)\n",
        "        return next(reader, None) is not None\n",
        "\n",
        "\n",
        "def count_uploaded_files(output_dir=\"output\"):\n",
        "    \"\"\"\n",
        "    Count all files recursively in the output directory and its subdirectories.\n",
        "    \"\"\"\n",
        "    if not os.path.exists(output_dir):\n",
        "        return 0\n",
        "\n",
        "    file_count = 0\n",
        "    for root, dirs, files in os.walk(output_dir):\n",
        "        file_count += len(files)\n",
        "    return file_count\n",
        "\n",
        "\n",
        "def collect_data_ipfs_links(data_cid):\n",
        "  seed_data_link = f\"https://ipfs.io/ipfs/{data_cid}\"\n",
        "\n",
        "  seed_data = requests.get(seed_data_link).json()\n",
        "\n",
        "  property_seed_cid = seed_data[\"relationships\"][\"property_seed\"][\"/\"]\n",
        "  property_seed_link = f\"https://ipfs.io/ipfs/{property_seed_cid}\"\n",
        "\n",
        "  property_seed_data = requests.get(property_seed_link).json()\n",
        "\n",
        "  property_cid, address_cid = property_seed_data[\"from\"][\"/\"], property_seed_data[\"to\"][\"/\"]\n",
        "\n",
        "  property_link = f\"https://ipfs.io/ipfs/{property_cid}\"\n",
        "  address_link = f\"https://ipfs.io/ipfs/{address_cid}\"\n",
        "\n",
        "  return seed_data_link, property_seed_link, property_link, address_link\n",
        "\n",
        "\n",
        "def run_validate_and_upload():\n",
        "    try:\n",
        "        subprocess.run(\n",
        "            [\"npx\", \"-y\", \"@elephant-xyz/cli@1.28.4\", \"upload\", \"hashed-data.zip\", \"--output-csv\", \"seed-results.csv\"],\n",
        "            stdout=subprocess.DEVNULL,\n",
        "            stderr=subprocess.PIPE,\n",
        "            check=True,\n",
        "            text=True,\n",
        "        )\n",
        "        if has_submit_errors():\n",
        "            print(\"❌ Validate failed, please check submit_errors.csv for details\", file=sys.stderr)\n",
        "            return\n",
        "\n",
        "        seed_info = get_seed_info()\n",
        "        seed_group_cid, data_cid, html_link = seed_info[\"dataGroupCid\"], seed_info[\"dataCid\"], seed_info[\"htmlLink\"]\n",
        "\n",
        "        files_uploaded = count_uploaded_files()\n",
        "\n",
        "        data_ipfs_links = collect_data_ipfs_links(data_cid)\n",
        "        seed_group_link, property_seed_link, property_link, address_link = data_ipfs_links\n",
        "\n",
        "        print(\"✅ Upload done\\n\")\n",
        "        print(f\"{files_uploaded} files uploaded\\n\")\n",
        "\n",
        "        print(f\"Seed group CID: {seed_group_cid}\\n\")\n",
        "        print(f\"HTML link: {html_link}\\n\")\n",
        "\n",
        "        print(f\"Seed group IPFS link: {seed_group_link}\")\n",
        "        print(f\"relationship IPFS link: {property_seed_link}\")\n",
        "        print(f\"property_seed IPFS link: {property_link}\")\n",
        "        print(f\"unnormalized_address IPFS link: {address_link}\")\n",
        "\n",
        "\n",
        "        print(\"✅ Upload done\\n\")\n",
        "\n",
        "    except subprocess.CalledProcessError as e:\n",
        "        print(f\"Command failed (exit code {e.returncode}):\", file=sys.stderr)\n",
        "        print(e.stderr.strip(), file=sys.stderr)\n",
        "        sys.exit(e.returncode)\n",
        "\n",
        "\n",
        "if __name__ == \"__main__\":\n",
        "    run_validate_and_upload()\n"
      ],
      "metadata": {
        "colab": {
          "base_uri": "https://localhost:8080/"
        },
        "id": "iE86L63ks5sr",
        "outputId": "8b02997f-96ef-43d3-c3bd-2c6035aad4c8"
      },
      "execution_count": 7,
      "outputs": [
        {
          "output_type": "stream",
          "name": "stdout",
          "text": [
            "✅ Upload done\n",
            "\n",
            "4 files uploaded\n",
            "\n",
            "Seed group CID: bafkreibeubpcioeeakky5vpanyjcfn3fl6nla22sdr47q3yesrfi6i7mmm\n",
            "\n",
            "HTML link: https://ipfs.io/ipfs/bafybeic43k6evko3ckzuyh5hgt2lk3k2upofk67lfvaunkbrrelqtfedym\n",
            "\n",
            "Seed group IPFS link: https://ipfs.io/ipfs/bafkreigunu67pmpdmdjmyzu3t77r6zf3e2nat4hnuveuevoocrokb2in2q\n",
            "relationship IPFS link: https://ipfs.io/ipfs/bafkreigsphzxlkml7w4drpkfzmmntwcbwjrx4sk54zbrxz7xtfvpdyt54u\n",
            "property_seed IPFS link: https://ipfs.io/ipfs/bafkreih4gfyfw3r4rpsmgynjno52v46xy7zzvrxgwyfxgnfg6pt45mprwq\n",
            "unnormalized_address IPFS link: https://ipfs.io/ipfs/bafkreiffej7jw3rrr4ilgykfvpjkljjb7emzw2k7ee6f4zw76sndpbxqh4\n",
            "✅ Upload done\n",
            "\n"
          ]
        }
      ]
    },
    {
      "cell_type": "code",
      "source": [
        "# @title Step 6: Submit\n",
        "\n",
        "! pip3 install python-dotenv -q\n",
        "\n",
        "from dotenv import load_dotenv\n",
        "load_dotenv()\n",
        "\n",
        "import subprocess\n",
        "import sys\n",
        "import csv\n",
        "\n",
        "\n",
        "def get_transaction_hash(path=\"transaction-status.csv\"):\n",
        "    with open(path, newline='', encoding='utf-8') as csvfile:\n",
        "        reader = csv.DictReader(csvfile)\n",
        "        first_row = next(reader, None)\n",
        "        if first_row is None:\n",
        "            raise ValueError(\"CSV file is empty\")\n",
        "        return first_row[\"transactionHash\"]\n",
        "\n",
        "\n",
        "def has_submit_errors(path=\"submit_errors.csv\"):\n",
        "    with open(path, newline='', encoding='utf-8') as csvfile:\n",
        "        reader = csv.DictReader(csvfile)\n",
        "        return next(reader, None) is not None\n",
        "\n",
        "\n",
        "def run_submit_to_contract():\n",
        "    try:\n",
        "        subprocess.run(\n",
        "            [\n",
        "                \"npx\", \"-y\", \"@elephant-xyz/cli@latest\", \"submit-to-contract\", \"seed-results.csv\",\n",
        "                \"--keystore-json\", \"./oracle-keystore.json\",\n",
        "                \"--keystore-password\", \"almiT@Block#hain\",\n",
        "            ],\n",
        "            stdout=subprocess.DEVNULL,\n",
        "            stderr=subprocess.PIPE,\n",
        "            check=True,\n",
        "            text=True,\n",
        "        )\n",
        "        if has_submit_errors():\n",
        "            print(\"❌ Submit failed, please check submit_errors.csv for details\", file=sys.stderr)\n",
        "            return\n",
        "\n",
        "        transaction_hash = get_transaction_hash()\n",
        "        transaction_link = f\"https://polygonscan.com/tx/{transaction_hash}\"\n",
        "\n",
        "        print(\"✅ Submit done\\n\")\n",
        "        print(f\"Transaction link: {transaction_link}\")\n",
        "\n",
        "    except subprocess.CalledProcessError as e:\n",
        "        print(f\"Command failed (exit code {e.returncode}):\", file=sys.stderr)\n",
        "        print(e.stderr.strip(), file=sys.stderr)\n",
        "        sys.exit(e.returncode)\n",
        "\n",
        "\n",
        "if __name__ == \"__main__\":\n",
        "    run_submit_to_contract()\n"
      ],
      "metadata": {
        "id": "teOHR3nWB0R0",
        "colab": {
          "base_uri": "https://localhost:8080/"
        },
        "outputId": "48a55d4e-5b2a-4d9b-9f27-53546a988d70"
      },
      "execution_count": 8,
      "outputs": [
        {
          "output_type": "stream",
          "name": "stderr",
          "text": [
            "❌ Submit failed, please check submit_errors.csv for details\n"
          ]
        }
      ]
    },
    {
      "cell_type": "code",
      "source": [
        "\n",
        "# @title Step 6: Construct seed_output.zip and Download it\n",
        "!mkdir -p transformed_seed\n",
        "!unzip -q transformed_seed.zip -d transformed_seed\n",
        "\n",
        "!mkdir -p seed_output\n",
        "!cp ./transformed_seed/*/property_seed.json ./transformed_seed/*/unnormalized_address.json ./seed-results.csv ./seed.csv seed_output/\n",
        "!zip -q -r seed_output.zip seed_output\n",
        "\n",
        "\n",
        "import os; from google.colab import files; (files.download('seed_output.zip'), print(\"✅ File was downloaded successfully\"))[1] if os.path.exists('seed_output.zip') else print(\"❌ File not found\")\n",
        "\n"
      ],
      "metadata": {
        "id": "2nSbeQkwkwIe",
        "outputId": "8efb93b0-8634-4d4c-a45c-0b35ea1e39a0",
        "colab": {
          "base_uri": "https://localhost:8080/",
          "height": 53
        }
      },
      "execution_count": null,
      "outputs": [
        {
          "output_type": "stream",
          "name": "stdout",
          "text": [
            "cp: cannot stat './seed.csv': No such file or directory\n"
          ]
        },
        {
          "output_type": "display_data",
          "data": {
            "text/plain": [
              "<IPython.core.display.Javascript object>"
            ],
            "application/javascript": [
              "\n",
              "    async function download(id, filename, size) {\n",
              "      if (!google.colab.kernel.accessAllowed) {\n",
              "        return;\n",
              "      }\n",
              "      const div = document.createElement('div');\n",
              "      const label = document.createElement('label');\n",
              "      label.textContent = `Downloading \"${filename}\": `;\n",
              "      div.appendChild(label);\n",
              "      const progress = document.createElement('progress');\n",
              "      progress.max = size;\n",
              "      div.appendChild(progress);\n",
              "      document.body.appendChild(div);\n",
              "\n",
              "      const buffers = [];\n",
              "      let downloaded = 0;\n",
              "\n",
              "      const channel = await google.colab.kernel.comms.open(id);\n",
              "      // Send a message to notify the kernel that we're ready.\n",
              "      channel.send({})\n",
              "\n",
              "      for await (const message of channel.messages) {\n",
              "        // Send a message to notify the kernel that we're ready.\n",
              "        channel.send({})\n",
              "        if (message.buffers) {\n",
              "          for (const buffer of message.buffers) {\n",
              "            buffers.push(buffer);\n",
              "            downloaded += buffer.byteLength;\n",
              "            progress.value = downloaded;\n",
              "          }\n",
              "        }\n",
              "      }\n",
              "      const blob = new Blob(buffers, {type: 'application/binary'});\n",
              "      const a = document.createElement('a');\n",
              "      a.href = window.URL.createObjectURL(blob);\n",
              "      a.download = filename;\n",
              "      div.appendChild(a);\n",
              "      a.click();\n",
              "      div.remove();\n",
              "    }\n",
              "  "
            ]
          },
          "metadata": {}
        },
        {
          "output_type": "display_data",
          "data": {
            "text/plain": [
              "<IPython.core.display.Javascript object>"
            ],
            "application/javascript": [
              "download(\"download_b9dffbd2-ee10-45ec-8610-d94ee40a55e4\", \"seed_output.zip\", 1392)"
            ]
          },
          "metadata": {}
        },
        {
          "output_type": "stream",
          "name": "stdout",
          "text": [
            "✅ File was downloaded successfully\n"
          ]
        }
      ]
    },
    {
      "cell_type": "code",
      "source": [],
      "metadata": {
        "id": "LVMs5aTgkw2G"
      },
      "execution_count": null,
      "outputs": []
    }
  ]
}